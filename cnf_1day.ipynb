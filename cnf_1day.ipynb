{
 "cells": [
  {
   "cell_type": "markdown",
   "id": "6d7cfff0-8156-41f2-941c-e5fe715b739f",
   "metadata": {},
   "source": [
    "# Conditional normalizing flow\n",
    "\n",
    "Trying out normalizing flow on a single with, conditionining on position, with permutation of the coordinates during the training."
   ]
  },
  {
   "cell_type": "code",
   "execution_count": 116,
   "id": "f2f0b34e-7a74-4456-9a19-fe5cd212c494",
   "metadata": {},
   "outputs": [],
   "source": [
    "import numpy as np\n",
    "import pandas as pd\n",
    "import torch\n",
    "from nflows.distributions import StandardNormal\n",
    "from nflows.flows import MaskedAutoregressiveFlow, Flow\n",
    "from nflows.transforms import CompositeTransform, BatchNorm, MaskedAffineAutoregressiveTransform, RandomPermutation, ReversePermutation\n",
    "from torch.optim import Adam\n",
    "from tqdm import tqdm\n",
    "import matplotlib.pyplot as plt\n",
    "import matplotlib\n",
    "import itertools\n",
    "\n",
    "from __future__ import print_function\n",
    "from ipywidgets import interact, interactive, fixed, interact_manual\n",
    "import ipywidgets as widgets\n",
    "import matplotlib"
   ]
  },
  {
   "cell_type": "code",
   "execution_count": 117,
   "id": "f5a2117e-41eb-4aaf-9388-cc1aa9489635",
   "metadata": {},
   "outputs": [],
   "source": [
    "n_dim = 6\n",
    "n_layers = 4\n",
    "n_hidden_features = 5\n",
    "n_condition_features = 12\n",
    "use_random_masks = False\n",
    "use_random_permutations = False\n",
    "n_blocks = 4\n",
    "use_residual_blocks = True\n",
    "dropout_probability = 0.0\n",
    "use_batch_norm_within_layers = True\n",
    "use_batch_norm_between_layers = True\n"
   ]
  },
  {
   "cell_type": "code",
   "execution_count": 118,
   "id": "d1d63f33-8110-48a5-b4f9-659127c56403",
   "metadata": {},
   "outputs": [],
   "source": [
    "# initialize flow\n",
    "if use_random_permutations:\n",
    "    permutation_constructor = RandomPermutation\n",
    "else:\n",
    "    permutation_constructor = ReversePermutation\n",
    "\n",
    "layers = []\n",
    "for _ in range(n_layers):\n",
    "    layers.append(permutation_constructor(n_dim))\n",
    "    layers.append(\n",
    "        MaskedAffineAutoregressiveTransform(\n",
    "            features=n_dim,\n",
    "            hidden_features=n_hidden_features,\n",
    "            context_features=n_condition_features,\n",
    "            num_blocks=n_blocks,\n",
    "            use_residual_blocks=use_residual_blocks,\n",
    "            random_mask=use_random_masks,\n",
    "            dropout_probability=dropout_probability,\n",
    "            use_batch_norm=use_batch_norm_within_layers,\n",
    "        )\n",
    "    )\n",
    "\n",
    "    if use_batch_norm_between_layers:\n",
    "        layers.append(BatchNorm(n_dim))\n",
    "\n",
    "flow = Flow(\n",
    "    transform=CompositeTransform(layers),\n",
    "    distribution=StandardNormal([n_dim]),\n",
    ")\n",
    "\n",
    "optimizer = Adam(flow.parameters(), lr=1e-3)\n",
    "\n",
    "data = pd.read_csv('data/df_all.csv').set_index('dates')\n",
    "position = torch.tensor(np.load('data/position.npy').astype(np.float32))\n",
    "\n",
    "sst = torch.tensor(data.iloc[0]).float()"
   ]
  },
  {
   "cell_type": "code",
   "execution_count": 119,
   "id": "af824d83-e1b0-4ef3-9671-03dc455483ea",
   "metadata": {},
   "outputs": [
    {
     "name": "stderr",
     "output_type": "stream",
     "text": [
      "-6.3999: 100%|████████████████████████████████████████████████████████████████████████████████████████████████████████████████████████████████████████████████████████| 10000/10000 [02:04<00:00, 80.24it/s]\n"
     ]
    }
   ],
   "source": [
    "N = 10000\n",
    "\n",
    "with tqdm(total=N) as pbar:\n",
    "    \n",
    "    for i in range(N):\n",
    "\n",
    "        optimizer.zero_grad()\n",
    "\n",
    "        ssts = torch.empty((0, n_dim))\n",
    "        positions = torch.empty((0, 2 * n_dim))\n",
    "        for _ in range(16):\n",
    "            perm = torch.randperm(6)\n",
    "            ssts = torch.cat([ssts, sst[perm][None, :]])\n",
    "            positions = torch.cat([positions, position.reshape(6, 2)[perm].reshape(1, -1)])\n",
    "\n",
    "        loss = torch.mean(-flow.log_prob(ssts, context=positions))\n",
    "        loss.backward()\n",
    "        optimizer.step()\n",
    "\n",
    "        pbar.update(1)\n",
    "        pbar.set_description(f\"{loss.item():.4f}\")\n",
    "\n",
    "    optimizer.zero_grad()\n"
   ]
  },
  {
   "cell_type": "code",
   "execution_count": 120,
   "id": "b67345bc-8ac0-4aea-9702-d45e2acb290b",
   "metadata": {},
   "outputs": [],
   "source": [
    "def sample(flow, noise, position):\n",
    "    position = position.repeat(len(noise)).reshape(len(noise), -1)\n",
    "    return torch.squeeze(flow._transform.inverse(noise, context=position)[0])\n"
   ]
  },
  {
   "cell_type": "code",
   "execution_count": 121,
   "id": "dce96896-b0fd-4839-bcea-587be0af7969",
   "metadata": {},
   "outputs": [],
   "source": [
    "def plot(i):\n",
    "    \n",
    "    perm = torch.tensor(list(itertools.permutations([1, 2, 3, 4, 5, 6]))[i])\n",
    "\n",
    "    fig, ax = plt.subplots(ncols=2, figsize=(10, 4))\n",
    "\n",
    "    lats, lons = position[:6], position[6:]\n",
    "\n",
    "    cmap = matplotlib.cm.get_cmap('viridis')\n",
    "    norm = matplotlib.colors.Normalize(vmin=sst.min(), vmax=sst.max())\n",
    "\n",
    "    for i, (lat, lon) in enumerate(zip(lats, lons)):\n",
    "        ax[0].scatter(lat, lon, color=cmap(norm(sst[i])), s=100)\n",
    "\n",
    "    perm = torch.randperm(6)\n",
    "    lats, lons = position[:6], position[6:]\n",
    "    lats = lats[perm]\n",
    "    lons = lons[perm]\n",
    "    sst_pred = sample(flow, noise, torch.cat([lats, lons])).detach().numpy()\n",
    "    \n",
    "    for i, (lat, lon) in enumerate(zip(lats, lons)):\n",
    "        ax[1].scatter(lat, lon, color=cmap(norm(sst_pred[i])), s=100)\n"
   ]
  },
  {
   "cell_type": "code",
   "execution_count": 122,
   "id": "e0bccf6a-7ba9-4f56-a1b8-3ab7a11611a8",
   "metadata": {},
   "outputs": [
    {
     "data": {
      "application/vnd.jupyter.widget-view+json": {
       "model_id": "c2504342ce984c118d589c23625cc4a9",
       "version_major": 2,
       "version_minor": 0
      },
      "text/plain": [
       "interactive(children=(IntSlider(value=10, description='i', max=719), Output()), _dom_classes=('widget-interact…"
      ]
     },
     "metadata": {},
     "output_type": "display_data"
    },
    {
     "data": {
      "text/plain": [
       "<function __main__.plot(i)>"
      ]
     },
     "execution_count": 122,
     "metadata": {},
     "output_type": "execute_result"
    }
   ],
   "source": [
    "flow.eval()\n",
    "noise = torch.randn((1, 6))\n",
    "\n",
    "interact(plot, i=widgets.IntSlider(min=0, max=719, step=1, value=10))"
   ]
  }
 ],
 "metadata": {
  "kernelspec": {
   "display_name": "Python 3 (ipykernel)",
   "language": "python",
   "name": "python3"
  },
  "language_info": {
   "codemirror_mode": {
    "name": "ipython",
    "version": 3
   },
   "file_extension": ".py",
   "mimetype": "text/x-python",
   "name": "python",
   "nbconvert_exporter": "python",
   "pygments_lexer": "ipython3",
   "version": "3.9.13"
  }
 },
 "nbformat": 4,
 "nbformat_minor": 5
}
