{
 "cells": [
  {
   "cell_type": "code",
   "execution_count": 4,
   "id": "fe6af841-2eb7-4704-97b7-15232f3e597d",
   "metadata": {},
   "outputs": [],
   "source": [
    "%load_ext autoreload\n",
    "%autoreload 2"
   ]
  },
  {
   "cell_type": "code",
   "execution_count": 63,
   "id": "6c5812b4-c826-4498-9f88-486d07654a06",
   "metadata": {},
   "outputs": [],
   "source": [
    "import mlflow\n",
    "import torch\n",
    "import numpy as np\n",
    "import pandas as pd\n",
    "import matplotlib.pyplot as plt\n",
    "import matplotlib\n",
    "from mpl_toolkits.axes_grid1 import make_axes_locatable"
   ]
  },
  {
   "cell_type": "code",
   "execution_count": 2,
   "id": "64505ee5-6f91-430c-8728-7c1e4e7d60c3",
   "metadata": {},
   "outputs": [],
   "source": [
    "model = mlflow.pytorch.load_model('parameters/20221217/best_ad_mean')"
   ]
  },
  {
   "cell_type": "code",
   "execution_count": 64,
   "id": "925edece-6998-4217-a72d-f218559d26bc",
   "metadata": {},
   "outputs": [],
   "source": [
    "def sample(gpr, noise, position):\n",
    "\n",
    "    y_samples = []\n",
    "    y_mean, y_cov = gpr.predict(position.reshape(2, -1).T, return_cov=True)\n",
    "\n",
    "    # add small perturbation, since matrix often ends up being singular\n",
    "    y_cov += 1e-7 * np.eye(y_cov.shape[0])\n",
    "    b = np.linalg.cholesky(y_cov)\n",
    "    y_samples.append(y_mean + np.dot(b, noise))\n",
    "\n",
    "    return torch.tensor(np.array(y_samples))\n"
   ]
  },
  {
   "cell_type": "code",
   "execution_count": 77,
   "id": "781cbc03-209c-4b35-a1b4-cb63ef7675ca",
   "metadata": {},
   "outputs": [],
   "source": [
    "def plot_gpr_contourplot(gpr, gridsize=48):\n",
    "    \"\"\"Plot contour plot of the GPR model.\n",
    "    \"\"\"\n",
    "    fig, ax = plt.subplots(figsize=(15, 5), ncols=3)\n",
    "    fig.tight_layout(pad=5.0)\n",
    "\n",
    "    lon = torch.linspace(-16, 16, gridsize)\n",
    "    lat = torch.linspace(-16, 16, gridsize)\n",
    "    LON, LAT = torch.meshgrid(lon, lat)\n",
    "    posgrid = torch.cat([LAT.reshape(-1), LON.reshape(-1)])\n",
    "    noise = torch.randn((gridsize ** 2,))\n",
    "\n",
    "    mean, std = gpr.predict(posgrid.reshape(2, -1).T, return_std=True)\n",
    "    mean = mean.reshape(gridsize, gridsize)\n",
    "    std = std.reshape(gridsize, gridsize)\n",
    "\n",
    "    cs0 = ax[0].contourf(LON, LAT, mean, 200)\n",
    "    ax[0].set_title('mean')\n",
    "    \n",
    "    divider = make_axes_locatable(ax[0])\n",
    "    cax = divider.append_axes('right', size='5%', pad=0.05)\n",
    "    fig.colorbar(cs0, cax=cax, orientation='vertical')\n",
    "\n",
    "    cs1 = ax[1].contourf(LON, LAT, std, 200)\n",
    "    ax[1].set_title('std')\n",
    "\n",
    "    divider = make_axes_locatable(ax[1])\n",
    "    cax = divider.append_axes('right', size='5%', pad=0.05)\n",
    "    fig.colorbar(cs1, cax=cax, orientation='vertical')\n",
    "\n",
    "    samples = sample(gpr, noise, posgrid).reshape(gridsize, gridsize)\n",
    "    cs2 = ax[2].contourf(LON, LAT, samples, 200)\n",
    "    ax[2].set_title('sample')\n",
    "    \n",
    "    divider = make_axes_locatable(ax[2])\n",
    "    cax = divider.append_axes('right', size='5%', pad=0.05)\n",
    "    fig.colorbar(cs2, cax=cax, orientation='vertical')\n",
    "\n",
    "    cmap = plt.get_cmap('viridis')\n",
    "    norm = matplotlib.colors.Normalize(vmin=mean.min(), vmax=mean.max())\n",
    "\n",
    "    for (lat, lon), sst in zip(gpr.X_train_, gpr.y_train_):\n",
    "        ax[2].scatter(lon, lat, color=cmap(norm(sst)), s=100, edgecolor='white', linewidth=1)\n",
    "        \n",
    "    return fig\n"
   ]
  },
  {
   "cell_type": "code",
   "execution_count": null,
   "id": "0218cf57-19ad-4e88-9e1c-ac06b041b904",
   "metadata": {},
   "outputs": [],
   "source": [
    "date = '2008-01-01'\n",
    "idx = np.argmax(pd.date_range('2008-01-01', '2016-12-31') == date)\n",
    "fig = plot_gpr_contourplot(model.gprs[idx], 48)\n",
    "fig.savefig(f'figures/gpr/{date}.png')"
   ]
  }
 ],
 "metadata": {
  "kernelspec": {
   "display_name": "Python 3 (ipykernel)",
   "language": "python",
   "name": "python3"
  },
  "language_info": {
   "codemirror_mode": {
    "name": "ipython",
    "version": 3
   },
   "file_extension": ".py",
   "mimetype": "text/x-python",
   "name": "python",
   "nbconvert_exporter": "python",
   "pygments_lexer": "ipython3",
   "version": "3.9.13"
  }
 },
 "nbformat": 4,
 "nbformat_minor": 5
}
