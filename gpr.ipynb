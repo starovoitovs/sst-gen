{
 "cells": [
  {
   "cell_type": "code",
   "execution_count": 1,
   "id": "a9712ab1-d5a7-4934-94dc-c06be2261af3",
   "metadata": {},
   "outputs": [],
   "source": [
    "import torch\n",
    "import mlflow\n",
    "import numpy as np\n",
    "import matplotlib.pyplot as plt\n",
    "import matplotlib\n",
    "\n",
    "from __future__ import print_function\n",
    "from ipywidgets import interact, interactive, fixed, interact_manual\n",
    "import ipywidgets as widgets\n",
    "import matplotlib\n",
    "from genhack.utils import plot_gpr_contourplot"
   ]
  },
  {
   "cell_type": "code",
   "execution_count": 2,
   "id": "6bea5ab9-b361-4956-8159-b0967ce96aea",
   "metadata": {},
   "outputs": [],
   "source": [
    "model = mlflow.pytorch.load_model('./mlruns/0/282b102168724dea85a0222d7d102fa1/artifacts/best_ad_mean')\n",
    "position = torch.tensor(np.load('data/position.npy'))"
   ]
  },
  {
   "cell_type": "code",
   "execution_count": 3,
   "id": "3559bc96-c888-4605-987a-42a0ab4de4cd",
   "metadata": {},
   "outputs": [],
   "source": [
    "noise = torch.randn((3288, 6))"
   ]
  },
  {
   "cell_type": "code",
   "execution_count": 4,
   "id": "8f9c28a6-acbf-425c-80cc-38a7e8c34c18",
   "metadata": {},
   "outputs": [],
   "source": [
    "def sample(noise, position, *args, **kwargs):\n",
    "\n",
    "    y_samples = []\n",
    "\n",
    "    for i, z in enumerate(noise):\n",
    "        gpr = model.gprs[i]\n",
    "        y_mean, y_cov = gpr.predict(position.reshape(2, -1).T, return_cov=True)\n",
    "        b = np.linalg.cholesky(y_cov)\n",
    "        y_samples.append(y_mean + np.dot(b, z))\n",
    "\n",
    "    return torch.tensor(np.array(y_samples))\n"
   ]
  },
  {
   "cell_type": "code",
   "execution_count": 5,
   "id": "8a169ea2-e59f-453b-a0c3-580b750cd072",
   "metadata": {},
   "outputs": [
    {
     "data": {
      "application/vnd.jupyter.widget-view+json": {
       "model_id": "93ab3da5ab9547338bcec3e6249fe519",
       "version_major": 2,
       "version_minor": 0
      },
      "text/plain": [
       "interactive(children=(IntSlider(value=0, description='day', max=3288), IntSlider(value=0, description='dlat1',…"
      ]
     },
     "metadata": {},
     "output_type": "display_data"
    },
    {
     "data": {
      "text/plain": [
       "<function __main__.plot(day, dlat1, dlat2, dlat3, dlat4, dlat5, dlat6, dlon1, dlon2, dlon3, dlon4, dlon5, dlon6)>"
      ]
     },
     "execution_count": 5,
     "metadata": {},
     "output_type": "execute_result"
    }
   ],
   "source": [
    "def plot(day, dlat1, dlat2, dlat3, dlat4, dlat5, dlat6, dlon1, dlon2, dlon3, dlon4, dlon5, dlon6):\n",
    "    \n",
    "    fig, ax = plt.subplots(ncols=2, figsize=(10, 5))\n",
    "    \n",
    "    position_new = position + torch.tensor([dlat1, dlat2, dlat3, dlat4, dlat5, dlat6, dlon1, dlon2, dlon3, dlon4, dlon5, dlon6])\n",
    "    sst = sample(noise, position)[day]\n",
    "    sst_new = sample(noise, position_new)[day]\n",
    "\n",
    "    cmap = matplotlib.cm.get_cmap('viridis')\n",
    "    norm = matplotlib.colors.Normalize(vmin=sst.min(), vmax=sst.max())\n",
    "\n",
    "    lat, lon = position[:6], position[6:]\n",
    "    for i, (lat, lon) in enumerate(zip(lat, lon)):\n",
    "        ax[0].scatter(lon, lat, color=cmap(norm(sst[i])), cmap='viridis', s=100)\n",
    "        ax[0].set_xlim((-15, 15))\n",
    "        ax[0].set_ylim((-15, 15))\n",
    "\n",
    "    lat, lon = position_new[:6], position_new[6:]\n",
    "    for i, (lat, lon) in enumerate(zip(lat, lon)):\n",
    "        ax[1].scatter(lon, lat, color=cmap(norm(sst_new[i])), cmap='viridis', s=100)\n",
    "        ax[1].set_xlim((-15, 15))\n",
    "        ax[1].set_ylim((-15, 15))\n",
    "        \n",
    "interact(plot,\n",
    "         day=widgets.IntSlider(min=0, max=3288, step=1, value=0),\n",
    "         dlat1=widgets.IntSlider(min=-10, max=10, step=1, value=0),\n",
    "         dlat2=widgets.IntSlider(min=-10, max=10, step=1, value=0),\n",
    "         dlat3=widgets.IntSlider(min=-10, max=10, step=1, value=0),\n",
    "         dlat4=widgets.IntSlider(min=-10, max=10, step=1, value=0),\n",
    "         dlat5=widgets.IntSlider(min=-10, max=10, step=1, value=0),\n",
    "         dlat6=widgets.IntSlider(min=-10, max=10, step=1, value=0),\n",
    "         dlon1=widgets.IntSlider(min=-10, max=10, step=1, value=0),\n",
    "         dlon2=widgets.IntSlider(min=-10, max=10, step=1, value=0),\n",
    "         dlon3=widgets.IntSlider(min=-10, max=10, step=1, value=0),\n",
    "         dlon4=widgets.IntSlider(min=-10, max=10, step=1, value=0),\n",
    "         dlon5=widgets.IntSlider(min=-10, max=10, step=1, value=0),\n",
    "         dlon6=widgets.IntSlider(min=-10, max=10, step=1, value=0))\n"
   ]
  },
  {
   "cell_type": "code",
   "execution_count": 6,
   "id": "3d052c78-73f4-47bc-b07a-d5f148910531",
   "metadata": {},
   "outputs": [
    {
     "data": {
      "application/vnd.jupyter.widget-view+json": {
       "model_id": "538cfae68a2f49068a98e90f7f19286e",
       "version_major": 2,
       "version_minor": 0
      },
      "text/plain": [
       "interactive(children=(IntSlider(value=10, description='day', max=3288), Output()), _dom_classes=('widget-inter…"
      ]
     },
     "metadata": {},
     "output_type": "display_data"
    },
    {
     "data": {
      "text/plain": [
       "<function __main__.plot(day)>"
      ]
     },
     "execution_count": 6,
     "metadata": {},
     "output_type": "execute_result"
    }
   ],
   "source": [
    "def plot(day):\n",
    "    plot_gpr_contourplot(model, day=day, gridsize=49)\n",
    "    \n",
    "interact(plot, day=widgets.IntSlider(min=0, max=3288, step=1, value=10))"
   ]
  },
  {
   "cell_type": "markdown",
   "id": "9b57b510-1d87-43a7-8984-339ce43e183f",
   "metadata": {
    "tags": []
   },
   "source": [
    "# parameter space\n",
    "\n",
    "* different kernel for every year\n",
    "* RBF\n",
    "  * length = [1, 10]\n",
    "* Matern\n",
    "  * length = [1, 10]\n",
    "  * nu = [0, 20]\n",
    "* Constant\n",
    "  * constant_value = [0.01, 2]\n",
    "\n",
    "* constant * radial\n",
    "\n",
    "# validation\n",
    "\n",
    "* 4v2/5v1\n",
    "\n",
    "# at the end\n",
    "\n",
    "* try out whether crashes for different configurations in R^12"
   ]
  },
  {
   "cell_type": "code",
   "execution_count": 42,
   "id": "02e11cd6-5d49-4c2f-8669-92abb6d3983f",
   "metadata": {},
   "outputs": [
    {
     "data": {
      "text/html": [
       "<div>\n",
       "<style scoped>\n",
       "    .dataframe tbody tr th:only-of-type {\n",
       "        vertical-align: middle;\n",
       "    }\n",
       "\n",
       "    .dataframe tbody tr th {\n",
       "        vertical-align: top;\n",
       "    }\n",
       "\n",
       "    .dataframe thead th {\n",
       "        text-align: right;\n",
       "    }\n",
       "</style>\n",
       "<table border=\"1\" class=\"dataframe\">\n",
       "  <thead>\n",
       "    <tr style=\"text-align: right;\">\n",
       "      <th></th>\n",
       "      <th>0</th>\n",
       "      <th>1</th>\n",
       "      <th>2</th>\n",
       "      <th>3</th>\n",
       "      <th>4</th>\n",
       "      <th>5</th>\n",
       "    </tr>\n",
       "  </thead>\n",
       "  <tbody>\n",
       "    <tr>\n",
       "      <th>2008</th>\n",
       "      <td>0.619101</td>\n",
       "      <td>0.986319</td>\n",
       "      <td>1.100103</td>\n",
       "      <td>2.576616</td>\n",
       "      <td>3.343133</td>\n",
       "      <td>8.740405</td>\n",
       "    </tr>\n",
       "    <tr>\n",
       "      <th>2009</th>\n",
       "      <td>0.603813</td>\n",
       "      <td>0.900279</td>\n",
       "      <td>0.980230</td>\n",
       "      <td>2.552213</td>\n",
       "      <td>3.375126</td>\n",
       "      <td>8.915066</td>\n",
       "    </tr>\n",
       "    <tr>\n",
       "      <th>2010</th>\n",
       "      <td>0.605333</td>\n",
       "      <td>0.858799</td>\n",
       "      <td>0.955651</td>\n",
       "      <td>2.700205</td>\n",
       "      <td>3.418625</td>\n",
       "      <td>8.152406</td>\n",
       "    </tr>\n",
       "    <tr>\n",
       "      <th>2011</th>\n",
       "      <td>0.567141</td>\n",
       "      <td>0.841884</td>\n",
       "      <td>1.003320</td>\n",
       "      <td>2.494177</td>\n",
       "      <td>3.344724</td>\n",
       "      <td>8.048428</td>\n",
       "    </tr>\n",
       "    <tr>\n",
       "      <th>2012</th>\n",
       "      <td>0.595117</td>\n",
       "      <td>0.771199</td>\n",
       "      <td>0.919864</td>\n",
       "      <td>2.160263</td>\n",
       "      <td>3.582399</td>\n",
       "      <td>8.317495</td>\n",
       "    </tr>\n",
       "    <tr>\n",
       "      <th>2013</th>\n",
       "      <td>0.606935</td>\n",
       "      <td>0.750858</td>\n",
       "      <td>0.895764</td>\n",
       "      <td>1.938461</td>\n",
       "      <td>3.391184</td>\n",
       "      <td>7.581810</td>\n",
       "    </tr>\n",
       "    <tr>\n",
       "      <th>2014</th>\n",
       "      <td>0.627194</td>\n",
       "      <td>0.636202</td>\n",
       "      <td>1.008057</td>\n",
       "      <td>2.092992</td>\n",
       "      <td>3.018795</td>\n",
       "      <td>7.676308</td>\n",
       "    </tr>\n",
       "    <tr>\n",
       "      <th>2015</th>\n",
       "      <td>0.425859</td>\n",
       "      <td>0.623033</td>\n",
       "      <td>0.872577</td>\n",
       "      <td>1.981311</td>\n",
       "      <td>2.945015</td>\n",
       "      <td>6.997724</td>\n",
       "    </tr>\n",
       "    <tr>\n",
       "      <th>2016</th>\n",
       "      <td>0.415082</td>\n",
       "      <td>0.493561</td>\n",
       "      <td>0.750464</td>\n",
       "      <td>2.008573</td>\n",
       "      <td>2.752013</td>\n",
       "      <td>7.549053</td>\n",
       "    </tr>\n",
       "  </tbody>\n",
       "</table>\n",
       "</div>"
      ],
      "text/plain": [
       "             0         1         2         3         4         5\n",
       "2008  0.619101  0.986319  1.100103  2.576616  3.343133  8.740405\n",
       "2009  0.603813  0.900279  0.980230  2.552213  3.375126  8.915066\n",
       "2010  0.605333  0.858799  0.955651  2.700205  3.418625  8.152406\n",
       "2011  0.567141  0.841884  1.003320  2.494177  3.344724  8.048428\n",
       "2012  0.595117  0.771199  0.919864  2.160263  3.582399  8.317495\n",
       "2013  0.606935  0.750858  0.895764  1.938461  3.391184  7.581810\n",
       "2014  0.627194  0.636202  1.008057  2.092992  3.018795  7.676308\n",
       "2015  0.425859  0.623033  0.872577  1.981311  2.945015  6.997724\n",
       "2016  0.415082  0.493561  0.750464  2.008573  2.752013  7.549053"
      ]
     },
     "execution_count": 42,
     "metadata": {},
     "output_type": "execute_result"
    }
   ],
   "source": [
    "pd.DataFrame([sorted(np.linalg.eig(df[df.index >= f'{year}-01-01'].cov())[0]) for year in range(2008, 2017)], index=range(2008, 2017))"
   ]
  }
 ],
 "metadata": {
  "kernelspec": {
   "display_name": "Python 3 (ipykernel)",
   "language": "python",
   "name": "python3"
  },
  "language_info": {
   "codemirror_mode": {
    "name": "ipython",
    "version": 3
   },
   "file_extension": ".py",
   "mimetype": "text/x-python",
   "name": "python",
   "nbconvert_exporter": "python",
   "pygments_lexer": "ipython3",
   "version": "3.9.13"
  }
 },
 "nbformat": 4,
 "nbformat_minor": 5
}
